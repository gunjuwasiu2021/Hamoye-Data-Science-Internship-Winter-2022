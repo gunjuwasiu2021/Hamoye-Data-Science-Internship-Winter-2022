{
  "nbformat": 4,
  "nbformat_minor": 0,
  "metadata": {
    "colab": {
      "name": "Untitled1.ipynb",
      "provenance": [],
      "authorship_tag": "ABX9TyP4CBwWRW7EnGqC4DgUv+ok",
      "include_colab_link": true
    },
    "kernelspec": {
      "name": "python3",
      "display_name": "Python 3"
    },
    "language_info": {
      "name": "python"
    }
  },
  "cells": [
    {
      "cell_type": "markdown",
      "metadata": {
        "id": "view-in-github",
        "colab_type": "text"
      },
      "source": [
        "<a href=\"https://colab.research.google.com/github/gunjuwasiu2021/Hamoye-Data-Science-Internship-Winter-2022/blob/main/Introduction%20to%20Python%20for%20Machine%20Learning.ipynb\" target=\"_parent\"><img src=\"https://colab.research.google.com/assets/colab-badge.svg\" alt=\"Open In Colab\"/></a>"
      ]
    },
    {
      "cell_type": "code",
      "execution_count": null,
      "metadata": {
        "id": "yqJlbr3W8uPn",
        "colab": {
          "base_uri": "https://localhost:8080/"
        },
        "outputId": "3da29ca5-217f-4232-fde0-150a99b91479"
      },
      "outputs": [
        {
          "output_type": "stream",
          "name": "stdout",
          "text": [
            "Abdulwasiu Olagunju\n"
          ]
        }
      ],
      "source": [
        "firstname = \"Abdulwasiu\"\n",
        "lastname = \"Olagunju\"\n",
        "fullname = firstname + \" \" + lastname\n",
        "print(fullname)"
      ]
    },
    {
      "cell_type": "code",
      "source": [
        "firstname = \"Abdulwasiu\"\n",
        "lastname = \"Olagunju\"\n",
        "print(\"My name is {} {}\".format(firstname, lastname ))"
      ],
      "metadata": {
        "colab": {
          "base_uri": "https://localhost:8080/"
        },
        "id": "CW_0vI54ca_k",
        "outputId": "b529bd25-32cf-4d82-8ee8-ae7c3529f578"
      },
      "execution_count": null,
      "outputs": [
        {
          "output_type": "stream",
          "name": "stdout",
          "text": [
            "My name is Abdulwasiu Olagunju\n"
          ]
        }
      ]
    },
    {
      "cell_type": "code",
      "source": [
        "firstname = \"Abdulwasiu\"\n",
        "lastname = \"Olagunju\"\n",
        "print(f\"My name is {firstname} {lastname}\")"
      ],
      "metadata": {
        "colab": {
          "base_uri": "https://localhost:8080/"
        },
        "id": "uxk_dXjicb5N",
        "outputId": "fc256ebd-0f04-4acf-e8d8-6965bffb3a53"
      },
      "execution_count": null,
      "outputs": [
        {
          "output_type": "stream",
          "name": "stdout",
          "text": [
            "My name is Abdulwasiu Olagunju\n"
          ]
        }
      ]
    },
    {
      "cell_type": "code",
      "source": [
        "firstname = \"adewale\"\n",
        "lastname = \"ABIODUN\"\n",
        "print(firstname.title())\n",
        "print(firstname.upper())\n",
        "print(lastname.lower())\n",
        "print(firstname[0:3])"
      ],
      "metadata": {
        "colab": {
          "base_uri": "https://localhost:8080/"
        },
        "id": "5m4_nPdrfytm",
        "outputId": "e25690fb-eca5-4637-91b8-57ce6ca1fe1b"
      },
      "execution_count": null,
      "outputs": [
        {
          "output_type": "stream",
          "name": "stdout",
          "text": [
            "Adewale\n",
            "ADEWALE\n",
            "abiodun\n",
            "ade\n"
          ]
        }
      ]
    },
    {
      "cell_type": "code",
      "source": [
        "firstname = \"Abdulwasiu\"\n",
        "lastname = \"Olagunju\"\n",
        "firstname.isalnum()"
      ],
      "metadata": {
        "colab": {
          "base_uri": "https://localhost:8080/"
        },
        "id": "SBkUgl-bmayS",
        "outputId": "55e51d50-3a76-4e63-e0bf-c7bca7341af5"
      },
      "execution_count": null,
      "outputs": [
        {
          "output_type": "execute_result",
          "data": {
            "text/plain": [
              "True"
            ]
          },
          "metadata": {},
          "execution_count": 5
        }
      ]
    },
    {
      "cell_type": "code",
      "source": [
        "lastname = \"Olagunju\"\n",
        "lastname.isdecimal()"
      ],
      "metadata": {
        "colab": {
          "base_uri": "https://localhost:8080/"
        },
        "id": "7hAxEmtQnh1X",
        "outputId": "51cc9eca-a98f-4e6f-90fe-cee9d350f1f9"
      },
      "execution_count": null,
      "outputs": [
        {
          "output_type": "execute_result",
          "data": {
            "text/plain": [
              "False"
            ]
          },
          "metadata": {},
          "execution_count": 6
        }
      ]
    },
    {
      "cell_type": "code",
      "source": [
        "firstname = \"Abdulwasiu\"\n",
        "lastname = \"Olagunju\"\n",
        "lastname = lastname.lstrip(\"O\")\n",
        "print(lastname.capitalize())"
      ],
      "metadata": {
        "colab": {
          "base_uri": "https://localhost:8080/"
        },
        "id": "i-YQCdt3pJI1",
        "outputId": "6e2fc153-aca9-4a94-98a7-7e1f5360f787"
      },
      "execution_count": null,
      "outputs": [
        {
          "output_type": "stream",
          "name": "stdout",
          "text": [
            "Lagunju\n"
          ]
        }
      ]
    },
    {
      "cell_type": "code",
      "source": [
        "father = \"Daddy\"\n",
        "father = father.lstrip(\"D\")\n",
        "print(father)"
      ],
      "metadata": {
        "colab": {
          "base_uri": "https://localhost:8080/"
        },
        "id": "bVlINTvyulZK",
        "outputId": "bea89d2f-a738-4d55-d521-55aa59b9b542"
      },
      "execution_count": null,
      "outputs": [
        {
          "output_type": "stream",
          "name": "stdout",
          "text": [
            "addy\n"
          ]
        }
      ]
    },
    {
      "cell_type": "code",
      "source": [
        "father = \"Daddy\"\n",
        "father = father.rstrip(\"y\")\n",
        "print(father)"
      ],
      "metadata": {
        "colab": {
          "base_uri": "https://localhost:8080/"
        },
        "id": "hhFdB1EYsoB4",
        "outputId": "bc1c6e27-dd3b-476d-a902-cf39dca196ff"
      },
      "execution_count": null,
      "outputs": [
        {
          "output_type": "stream",
          "name": "stdout",
          "text": [
            "Dadd\n"
          ]
        }
      ]
    },
    {
      "cell_type": "code",
      "source": [
        "father = \"Daddy\"\n",
        "father = father.strip(\"Dy\")\n",
        "print(father)"
      ],
      "metadata": {
        "colab": {
          "base_uri": "https://localhost:8080/"
        },
        "id": "feH00H8xtl9u",
        "outputId": "798a44a3-5d2f-4ba1-c4ac-5bb0fd6c9ce4"
      },
      "execution_count": null,
      "outputs": [
        {
          "output_type": "stream",
          "name": "stdout",
          "text": [
            "add\n"
          ]
        }
      ]
    },
    {
      "cell_type": "code",
      "source": [
        "x = 20\n",
        "y = 10\n",
        "if x > y:\n",
        "  print(\"x is greater than y\")"
      ],
      "metadata": {
        "colab": {
          "base_uri": "https://localhost:8080/"
        },
        "id": "uAZFXetN4uWB",
        "outputId": "135e3495-633c-4789-ed29-f4e55c094dd1"
      },
      "execution_count": null,
      "outputs": [
        {
          "output_type": "stream",
          "name": "stdout",
          "text": [
            "x is greater than y\n"
          ]
        }
      ]
    },
    {
      "cell_type": "code",
      "source": [
        "x = 20\n",
        "y = 10\n",
        "if x < y:\n",
        "  print(\"x is less than y\")\n",
        "else:\n",
        "  print(\"y is less than x\")"
      ],
      "metadata": {
        "colab": {
          "base_uri": "https://localhost:8080/"
        },
        "id": "eeW6pmtb46Rb",
        "outputId": "9c375c5b-fb81-459b-c51a-a39aa27a635b"
      },
      "execution_count": null,
      "outputs": [
        {
          "output_type": "stream",
          "name": "stdout",
          "text": [
            "y is less than x\n"
          ]
        }
      ]
    },
    {
      "cell_type": "code",
      "source": [
        "x = 10\n",
        "y = 10\n",
        "if x > y:\n",
        "  print(\"x is greater than y\")\n",
        "elif x == y:\n",
        "  print(\"x is equal to y\")\n",
        "else:\n",
        "  print(\"y is greater than x\")"
      ],
      "metadata": {
        "colab": {
          "base_uri": "https://localhost:8080/"
        },
        "id": "Lzk1DNlu5XWf",
        "outputId": "8a1b13e5-371c-4105-8512-1b768d504bc2"
      },
      "execution_count": null,
      "outputs": [
        {
          "output_type": "stream",
          "name": "stdout",
          "text": [
            "x is equal to y\n"
          ]
        }
      ]
    },
    {
      "cell_type": "code",
      "source": [
        "students = [\"Ade\", \"Computer Science\", 25]\n",
        "print(students)\n",
        "students[2] = 28\n",
        "print(students)"
      ],
      "metadata": {
        "colab": {
          "base_uri": "https://localhost:8080/"
        },
        "id": "_VMbvpjx6LWB",
        "outputId": "ded7fb33-b371-49ab-9833-dbb970ebe5dd"
      },
      "execution_count": null,
      "outputs": [
        {
          "output_type": "stream",
          "name": "stdout",
          "text": [
            "['Ade', 'Computer Science', 25]\n",
            "['Ade', 'Computer Science', 28]\n"
          ]
        }
      ]
    },
    {
      "cell_type": "code",
      "source": [
        "list1 = [\"Ade\", \"Computer Science\", 25, [300, \"tall\"]]\n",
        "print(list1)\n",
        "list2 = list1[3]\n",
        "print(list2)"
      ],
      "metadata": {
        "colab": {
          "base_uri": "https://localhost:8080/"
        },
        "id": "aJmoCYPw6fce",
        "outputId": "d3ff5028-ca9c-4dd1-84f4-41cb9ea21583"
      },
      "execution_count": null,
      "outputs": [
        {
          "output_type": "stream",
          "name": "stdout",
          "text": [
            "['Ade', 'Computer Science', 25, [300, 'tall']]\n",
            "[300, 'tall']\n"
          ]
        }
      ]
    },
    {
      "cell_type": "code",
      "source": [
        "weekdays = ['Monday', 'Tuesday', 'Wednesday', 'Thursdays', 'Friday']\n",
        "print(weekdays)\n",
        "weekdays.append('Saturday')\n",
        "print(weekdays)"
      ],
      "metadata": {
        "colab": {
          "base_uri": "https://localhost:8080/"
        },
        "id": "v_2qanE48R9U",
        "outputId": "c4ebb825-28a8-47df-f070-efbdae14e946"
      },
      "execution_count": null,
      "outputs": [
        {
          "output_type": "stream",
          "name": "stdout",
          "text": [
            "['Monday', 'Tuesday', 'Wednesday', 'Thursdays', 'Friday']\n",
            "['Monday', 'Tuesday', 'Wednesday', 'Thursdays', 'Friday', 'Saturday']\n"
          ]
        }
      ]
    },
    {
      "cell_type": "code",
      "source": [
        "weekdays = ['Monday', 'Tuesday', 'Wednesday', 'Thursdays', 'Friday']\n",
        "print(weekdays)\n",
        "weekdays.extend(['Saturday', 'Sunday'])\n",
        "print(weekdays)"
      ],
      "metadata": {
        "colab": {
          "base_uri": "https://localhost:8080/"
        },
        "id": "cXcMHadO8fFN",
        "outputId": "92ce03c8-a0bb-47dc-be38-d1cf8d89c8ed"
      },
      "execution_count": null,
      "outputs": [
        {
          "output_type": "stream",
          "name": "stdout",
          "text": [
            "['Monday', 'Tuesday', 'Wednesday', 'Thursdays', 'Friday']\n",
            "['Monday', 'Tuesday', 'Wednesday', 'Thursdays', 'Friday', 'Saturday', 'Sunday']\n"
          ]
        }
      ]
    },
    {
      "cell_type": "code",
      "source": [
        "weekdays = ['Monday', 'Tuesday', 'Wednesday', 'Thursdays', 'Friday']\n",
        "print(weekdays.index('Monday'))\n",
        "print(weekdays)"
      ],
      "metadata": {
        "colab": {
          "base_uri": "https://localhost:8080/"
        },
        "id": "qAqlqRO39ttS",
        "outputId": "de8b7582-6d54-4ca9-8826-69ebd2f88791"
      },
      "execution_count": null,
      "outputs": [
        {
          "output_type": "stream",
          "name": "stdout",
          "text": [
            "0\n",
            "['Monday', 'Tuesday', 'Wednesday', 'Thursdays', 'Friday']\n"
          ]
        }
      ]
    },
    {
      "cell_type": "code",
      "source": [
        "week = ('Mon', 'Tue', 'Wed')\n",
        "week1 = tuple(['Thu', 'Fri'])\n",
        "week2 = week + week1\n",
        "print(week)\n",
        "print(week1)\n",
        "print(week2)\n",
        "print('Fri' in week2)\n",
        "print('Sat' in week2)"
      ],
      "metadata": {
        "colab": {
          "base_uri": "https://localhost:8080/"
        },
        "id": "Klm_WxVEIHbN",
        "outputId": "a3a3770a-019a-4682-9b15-f94af73191bb"
      },
      "execution_count": null,
      "outputs": [
        {
          "output_type": "stream",
          "name": "stdout",
          "text": [
            "('Mon', 'Tue', 'Wed')\n",
            "('Thu', 'Fri')\n",
            "('Mon', 'Tue', 'Wed', 'Thu', 'Fri')\n",
            "True\n",
            "False\n"
          ]
        }
      ]
    },
    {
      "cell_type": "code",
      "source": [
        "colors = {'red', 'green', 'blue'}\n",
        "colors1 = {'red' 'green', 'blue', 'white', 'black', 'red', 'blue'}\n",
        "colors_list = list(colors1)\n",
        "rainbow = set(['red', 'orange', 'yellow','green', 'blue', 'indigo', 'violet' ])\n",
        "print (colors)\n",
        "print(colors1)\n",
        "print(colors_list)\n",
        "print(rainbow)"
      ],
      "metadata": {
        "colab": {
          "base_uri": "https://localhost:8080/"
        },
        "id": "NtfxtNMJMbKn",
        "outputId": "4c3f6858-ba92-4252-e4a3-fa002116cc7b"
      },
      "execution_count": null,
      "outputs": [
        {
          "output_type": "stream",
          "name": "stdout",
          "text": [
            "{'green', 'red', 'blue'}\n",
            "{'red', 'blue', 'redgreen', 'white', 'black'}\n",
            "['red', 'blue', 'redgreen', 'white', 'black']\n",
            "{'violet', 'red', 'blue', 'orange', 'indigo', 'green', 'yellow'}\n"
          ]
        }
      ]
    },
    {
      "cell_type": "code",
      "source": [
        "rainbow = set(['red', 'orange', 'yellow','green', 'blue', 'indigo', 'violet' ])\n",
        "print(rainbow.remove('orange'))\n",
        "print(rainbow.discard('violet'))\n",
        "print(rainbow)"
      ],
      "metadata": {
        "colab": {
          "base_uri": "https://localhost:8080/"
        },
        "id": "Zg2WJxrHMbjH",
        "outputId": "105e0948-07ca-4edc-d1ee-9dedc6ea746e"
      },
      "execution_count": null,
      "outputs": [
        {
          "output_type": "stream",
          "name": "stdout",
          "text": [
            "None\n",
            "None\n",
            "{'red', 'blue', 'indigo', 'green', 'yellow'}\n"
          ]
        }
      ]
    },
    {
      "cell_type": "code",
      "source": [
        "rainbow = set(['red', 'orange', 'yellow','green', 'blue', 'indigo', 'violet' ])\n",
        "print(rainbow.add('white'))\n",
        "print(rainbow)\n",
        "print(\"Size of the set = \" + str(len(rainbow))) #Only strings can be concatenated"
      ],
      "metadata": {
        "colab": {
          "base_uri": "https://localhost:8080/"
        },
        "id": "oakfd6UQO8TH",
        "outputId": "17c09f14-eb70-466a-803b-c944d320c3ce"
      },
      "execution_count": null,
      "outputs": [
        {
          "output_type": "stream",
          "name": "stdout",
          "text": [
            "None\n",
            "{'violet', 'red', 'blue', 'orange', 'indigo', 'green', 'yellow', 'white'}\n",
            "Size of the set = 8\n"
          ]
        }
      ]
    },
    {
      "cell_type": "markdown",
      "source": [
        "Set Union"
      ],
      "metadata": {
        "id": "RbcaYG_4Rvmm"
      }
    },
    {
      "cell_type": "code",
      "source": [
        "set_a = {'red', 'orange', 'yellow','green'}\n",
        "set_b = {'blue', 'indigo', 'violet' }\n",
        "#set_c = (set_a | set_b)\n",
        "set_c = (set_a.union(set_b)) # alternative\n",
        "print(set_a)\n",
        "print(set_b)\n",
        "print(set_c)"
      ],
      "metadata": {
        "colab": {
          "base_uri": "https://localhost:8080/"
        },
        "id": "uw2bksY_P6QT",
        "outputId": "870243f0-5202-42bc-b45d-2e0d8186b1b7"
      },
      "execution_count": null,
      "outputs": [
        {
          "output_type": "stream",
          "name": "stdout",
          "text": [
            "{'green', 'red', 'yellow', 'orange'}\n",
            "{'violet', 'blue', 'indigo'}\n",
            "{'green', 'yellow', 'blue', 'violet', 'indigo', 'red', 'orange'}\n"
          ]
        }
      ]
    },
    {
      "cell_type": "markdown",
      "source": [
        "Set Intersection"
      ],
      "metadata": {
        "id": "NvGAPGnKRzJ1"
      }
    },
    {
      "cell_type": "code",
      "source": [
        "set_1 = {'red', 'orange', 'yellow','green', 'pink'}\n",
        "set_2 = {'blue', 'indigo', 'violet', 'pink'}\n",
        "#set_3 = (set_1 & set_2)\n",
        "set_3 = (set_1.union(set_2)) # alternative\n",
        "print(set_1)\n",
        "print(set_2)\n",
        "print(set_3)"
      ],
      "metadata": {
        "colab": {
          "base_uri": "https://localhost:8080/"
        },
        "id": "1W5zkK4PQvdI",
        "outputId": "d332ee8f-5832-498a-a80f-cac0c2c27036"
      },
      "execution_count": null,
      "outputs": [
        {
          "output_type": "stream",
          "name": "stdout",
          "text": [
            "{'red', 'orange', 'green', 'yellow', 'pink'}\n",
            "{'pink', 'violet', 'blue', 'indigo'}\n",
            "{'violet', 'red', 'orange', 'blue', 'indigo', 'green', 'yellow', 'pink'}\n"
          ]
        }
      ]
    },
    {
      "cell_type": "markdown",
      "source": [
        "Set Difference"
      ],
      "metadata": {
        "id": "bMO5MiVhR2h2"
      }
    },
    {
      "cell_type": "code",
      "source": [
        "rainbow_1 = {'red', 'orange', 'yellow','green', 'pink'}\n",
        "rainbow_2 = {'blue', 'indigo', 'violet', 'pink'}\n",
        "#rainbow_3 = (rainbow_1 - rainbow_2)\n",
        "rainbow_3 = (rainbow_1.difference(rainbow_2)) # alternative\n",
        "print(rainbow_1)\n",
        "print(rainbow_2)\n",
        "print(rainbow_3)"
      ],
      "metadata": {
        "colab": {
          "base_uri": "https://localhost:8080/"
        },
        "id": "UqOTlzZyQbAX",
        "outputId": "db3e4ef1-2a94-4c61-f433-a8941907da10"
      },
      "execution_count": null,
      "outputs": [
        {
          "output_type": "stream",
          "name": "stdout",
          "text": [
            "{'red', 'orange', 'green', 'yellow', 'pink'}\n",
            "{'pink', 'violet', 'blue', 'indigo'}\n",
            "{'green', 'red', 'yellow', 'orange'}\n"
          ]
        }
      ]
    },
    {
      "cell_type": "markdown",
      "source": [
        "Set Symmetric Difference"
      ],
      "metadata": {
        "id": "SeI_catpTOGF"
      }
    },
    {
      "cell_type": "code",
      "source": [
        "rainbow_1 = {'red', 'orange', 'yellow','green', 'pink'}\n",
        "rainbow_2 = {'blue', 'indigo', 'violet', 'pink'}\n",
        "#rainbow_3 = (rainbow_1 ^ rainbow_2)\n",
        "rainbow_3 = (rainbow_1.symmetric_difference(rainbow_2)) # alternative\n",
        "print(rainbow_1)\n",
        "print(rainbow_2)\n",
        "print(rainbow_3)"
      ],
      "metadata": {
        "colab": {
          "base_uri": "https://localhost:8080/"
        },
        "id": "tUiS5AffTUuv",
        "outputId": "ccaa998d-4603-4edc-9ca6-7ceca7ce803f"
      },
      "execution_count": null,
      "outputs": [
        {
          "output_type": "stream",
          "name": "stdout",
          "text": [
            "{'red', 'orange', 'green', 'yellow', 'pink'}\n",
            "{'pink', 'violet', 'blue', 'indigo'}\n",
            "{'violet', 'red', 'blue', 'indigo', 'orange', 'green', 'yellow'}\n"
          ]
        }
      ]
    },
    {
      "cell_type": "markdown",
      "source": [
        "Intersection Update"
      ],
      "metadata": {
        "id": "qMjSMmDiWS2Q"
      }
    },
    {
      "cell_type": "code",
      "source": [
        "rainbow_1 = {'red', 'orange', 'yellow','green', 'pink'}\n",
        "rainbow_2 = {'blue', 'indigo', 'violet', 'pink'}\n",
        "rainbow_3 = (rainbow_1.intersection_update(rainbow_2)) # alternative\n",
        "print(rainbow_1)\n",
        "print(rainbow_2)\n",
        "print(rainbow_3)"
      ],
      "metadata": {
        "colab": {
          "base_uri": "https://localhost:8080/"
        },
        "id": "b22bRht0TzzO",
        "outputId": "0e503775-403d-4531-872a-06fc05c0855c"
      },
      "execution_count": null,
      "outputs": [
        {
          "output_type": "stream",
          "name": "stdout",
          "text": [
            "{'pink'}\n",
            "{'pink', 'violet', 'blue', 'indigo'}\n",
            "None\n"
          ]
        }
      ]
    },
    {
      "cell_type": "markdown",
      "source": [
        "Difference Update"
      ],
      "metadata": {
        "id": "SVJZw-taWbrG"
      }
    },
    {
      "cell_type": "code",
      "source": [
        "rainbow_1 = {'red', 'orange', 'yellow','green', 'pink'}\n",
        "rainbow_2 = {'blue', 'indigo', 'violet', 'pink'}\n",
        "(rainbow_1.difference_update(rainbow_2))\n",
        "print(rainbow_1)\n",
        "print(rainbow_2)\n"
      ],
      "metadata": {
        "colab": {
          "base_uri": "https://localhost:8080/"
        },
        "id": "DUm8aY9uWhZe",
        "outputId": "b07dfb65-0bb7-49ed-e84b-b84afbd55bb5"
      },
      "execution_count": null,
      "outputs": [
        {
          "output_type": "stream",
          "name": "stdout",
          "text": [
            "{'red', 'orange', 'green', 'yellow'}\n",
            "{'pink', 'violet', 'blue', 'indigo'}\n"
          ]
        }
      ]
    },
    {
      "cell_type": "code",
      "source": [
        ""
      ],
      "metadata": {
        "id": "AnoOQsvLXc56"
      },
      "execution_count": null,
      "outputs": []
    },
    {
      "cell_type": "markdown",
      "source": [
        "Symmetric Difference Update"
      ],
      "metadata": {
        "id": "uVus7tRaXXnM"
      }
    },
    {
      "cell_type": "code",
      "source": [
        "rainbow_1 = {'red', 'orange', 'yellow','green', 'pink'}\n",
        "rainbow_2 = {'blue', 'indigo', 'violet', 'pink'}\n",
        "(rainbow_1.symmetric_difference_update(rainbow_2))\n",
        "print(rainbow_1)\n",
        "print(rainbow_2)"
      ],
      "metadata": {
        "colab": {
          "base_uri": "https://localhost:8080/"
        },
        "id": "uIctDJRWXe2r",
        "outputId": "ad47b5d8-b645-4b7a-b788-a8b133767489"
      },
      "execution_count": null,
      "outputs": [
        {
          "output_type": "stream",
          "name": "stdout",
          "text": [
            "{'violet', 'red', 'orange', 'blue', 'indigo', 'green', 'yellow'}\n",
            "{'pink', 'violet', 'blue', 'indigo'}\n"
          ]
        }
      ]
    },
    {
      "cell_type": "markdown",
      "source": [
        "Dictionary"
      ],
      "metadata": {
        "id": "iuiptE1wKcK9"
      }
    },
    {
      "cell_type": "code",
      "source": [
        "dico = {'name': 'Wasiu', 'age': 35, 'status':'Staff', 'designation': 'Technologist'}\n",
        "print(dico)\n",
        "key = ['name', 'age', 'status', 'designation']\n",
        "value = ['Adam', '40', 'Staff', 'Lecturer']\n",
        "dico1 = dict(zip(key, value))\n",
        "print(dico1)\n"
      ],
      "metadata": {
        "colab": {
          "base_uri": "https://localhost:8080/"
        },
        "id": "mbyRlOzMKebw",
        "outputId": "e3ca9ff2-2785-4e44-e6ca-f3aebd267950"
      },
      "execution_count": null,
      "outputs": [
        {
          "output_type": "stream",
          "name": "stdout",
          "text": [
            "{'name': 'Wasiu', 'age': 35, 'status': 'Staff', 'designation': 'Technologist'}\n",
            "{'name': 'Adam', 'age': '40', 'status': 'Staff', 'designation': 'Lecturer'}\n"
          ]
        }
      ]
    },
    {
      "cell_type": "markdown",
      "source": [
        "Access Dictionary Items"
      ],
      "metadata": {
        "id": "QAFlBd1iQ8k5"
      }
    },
    {
      "cell_type": "code",
      "source": [
        "dico = {'name': 'Wasiu', 'age': 35, 'status':'Staff', 'designation': 'Technologist'}\n",
        "print(dico['name'])\n",
        "#print(dico['gender']) Accessing item that's not in the dictionary will give Key Error"
      ],
      "metadata": {
        "colab": {
          "base_uri": "https://localhost:8080/"
        },
        "id": "H2TViRX4bUw9",
        "outputId": "ce442060-1c2f-417f-c8b8-01ad9afeecfa"
      },
      "execution_count": null,
      "outputs": [
        {
          "output_type": "stream",
          "name": "stdout",
          "text": [
            "Wasiu\n"
          ]
        }
      ]
    },
    {
      "cell_type": "markdown",
      "source": [
        "Access Dictionary Items with get() method to avoid Key Error when Item Accessing is not found"
      ],
      "metadata": {
        "id": "4Qu2xAdkb80-"
      }
    },
    {
      "cell_type": "code",
      "source": [
        "dico = {'name': 'Wasiu', 'age': 35, 'status':'Staff', 'designation': 'Technologist'}\n",
        "print(dico.get('name')) #When item is there\n",
        "print(dico.get('gender')) #When item is there"
      ],
      "metadata": {
        "colab": {
          "base_uri": "https://localhost:8080/"
        },
        "id": "K-1L68ducIsW",
        "outputId": "59e3c0f2-8c68-4ad2-c9b6-e5f5ccd59200"
      },
      "execution_count": null,
      "outputs": [
        {
          "output_type": "stream",
          "name": "stdout",
          "text": [
            "Wasiu\n",
            "None\n"
          ]
        }
      ]
    },
    {
      "cell_type": "markdown",
      "source": [
        "Add or Update Dictionary Items."
      ],
      "metadata": {
        "id": "r_dNOzYrdYNK"
      }
    },
    {
      "cell_type": "code",
      "source": [
        "dico = {'name': 'Wasiu', 'age': 35, 'status':'Staff', 'designation': 'Technologist'}\n",
        "dico['designation'] = 'Lecturer' #This is when key already exist but want to update its value\n",
        "print(dico)\n",
        "dico['gender'] = 'Male' #This is for adding new key and value\n",
        "print(dico)"
      ],
      "metadata": {
        "colab": {
          "base_uri": "https://localhost:8080/"
        },
        "id": "lHnd6nsZdanZ",
        "outputId": "c2120eb2-cec6-47a8-af30-8178f3beebe9"
      },
      "execution_count": null,
      "outputs": [
        {
          "output_type": "stream",
          "name": "stdout",
          "text": [
            "{'name': 'Wasiu', 'age': 35, 'status': 'Staff', 'designation': 'Lecturer'}\n",
            "{'name': 'Wasiu', 'age': 35, 'status': 'Staff', 'designation': 'Lecturer', 'gender': 'Male'}\n"
          ]
        }
      ]
    },
    {
      "cell_type": "markdown",
      "source": [
        "Merge Two Dictionaries with update() method. The method blindly overwrite the value of key that are clashed"
      ],
      "metadata": {
        "id": "R6ebrLS0eoBe"
      }
    },
    {
      "cell_type": "code",
      "source": [
        "dico = {'name': 'Wasiu', 'age': 35, 'status': 'Staff', 'designation': 'Technologist', 'gender': 'Male', 'office_no': 'Lab 209'}\n",
        "dico1 = {'name': 'Adam', 'age': '40', 'status': 'Staff', 'designation': 'Lecturer', 'employment_date': 2015}\n",
        "dico.update(dico1)\n",
        "print(dico)"
      ],
      "metadata": {
        "colab": {
          "base_uri": "https://localhost:8080/"
        },
        "id": "EEfUR5YXe1PE",
        "outputId": "ce88a8b5-12bb-4cfc-e6d6-55692180af75"
      },
      "execution_count": null,
      "outputs": [
        {
          "output_type": "stream",
          "name": "stdout",
          "text": [
            "{'name': 'Adam', 'age': '40', 'status': 'Staff', 'designation': 'Lecturer', 'gender': 'Male', 'office_no': 'Lab 209', 'employment_date': 2015}\n"
          ]
        }
      ]
    },
    {
      "cell_type": "markdown",
      "source": [
        "Dictionary Items with pop method or del command"
      ],
      "metadata": {
        "id": "nTubkOgZhCvf"
      }
    },
    {
      "cell_type": "code",
      "source": [
        "dico1 = {'name': 'Adam', 'age': '40', 'status': 'Staff', 'designation': 'Lecturer', 'employment_date': 2015}\n",
        "rem_val = dico1.pop('employment_date') #With pop method we can get the value of deleted key\n",
        "print(dico1)\n",
        "print(rem_val)"
      ],
      "metadata": {
        "colab": {
          "base_uri": "https://localhost:8080/"
        },
        "id": "JQuEqQw9hDGX",
        "outputId": "591fefc3-960c-46af-8304-cdb6460994b3"
      },
      "execution_count": null,
      "outputs": [
        {
          "output_type": "stream",
          "name": "stdout",
          "text": [
            "{'name': 'Adam', 'age': '40', 'status': 'Staff', 'designation': 'Lecturer'}\n",
            "2015\n"
          ]
        }
      ]
    },
    {
      "cell_type": "code",
      "source": [
        "dico1 = {'name': 'Adam', 'age': '40', 'status': 'Staff', 'designation': 'Lecturer', 'employment_date': 2015}\n",
        "del dico1['employment_date']\n",
        "print(dico1)"
      ],
      "metadata": {
        "colab": {
          "base_uri": "https://localhost:8080/"
        },
        "id": "niM9n_3yh_WE",
        "outputId": "82d44b15-161e-40cd-c3d0-791fbb39625a"
      },
      "execution_count": null,
      "outputs": [
        {
          "output_type": "stream",
          "name": "stdout",
          "text": [
            "{'name': 'Adam', 'age': '40', 'status': 'Staff', 'designation': 'Lecturer'}\n"
          ]
        }
      ]
    },
    {
      "cell_type": "markdown",
      "source": [
        "Deleting Complete Dictyionary"
      ],
      "metadata": {
        "id": "pOUHBm1TihyZ"
      }
    },
    {
      "cell_type": "code",
      "source": [
        "dico1 = {'name': 'Adam', 'age': '40', 'status': 'Staff', 'designation': 'Lecturer', 'employment_date': 2015}\n",
        "(dico1).clear()\n",
        "print(dico1)"
      ],
      "metadata": {
        "colab": {
          "base_uri": "https://localhost:8080/"
        },
        "id": "2XIqTFcPinhx",
        "outputId": "2838e040-7f77-4bd8-d017-7e059085b16f"
      },
      "execution_count": null,
      "outputs": [
        {
          "output_type": "stream",
          "name": "stdout",
          "text": [
            "{}\n"
          ]
        }
      ]
    },
    {
      "cell_type": "markdown",
      "source": [
        "While Loop"
      ],
      "metadata": {
        "id": "8zNmf9p3jJrW"
      }
    },
    {
      "cell_type": "code",
      "source": [
        "x = 10\n",
        "while x >= 0:\n",
        "  print(x)\n",
        "  x-=1\n"
      ],
      "metadata": {
        "colab": {
          "base_uri": "https://localhost:8080/"
        },
        "id": "wgMjtxwtjMVv",
        "outputId": "9a36548c-8c82-4346-a29e-ac693a7a2c33"
      },
      "execution_count": null,
      "outputs": [
        {
          "output_type": "stream",
          "name": "stdout",
          "text": [
            "10\n",
            "9\n",
            "8\n",
            "7\n",
            "6\n",
            "5\n",
            "4\n",
            "3\n",
            "2\n",
            "1\n",
            "0\n"
          ]
        }
      ]
    },
    {
      "cell_type": "markdown",
      "source": [
        "Break Statement"
      ],
      "metadata": {
        "id": "ULZRGQj1k-cp"
      }
    },
    {
      "cell_type": "code",
      "source": [
        "x = 0\n",
        "n = 10\n",
        "while x < n:\n",
        "  print(x)\n",
        "  if x == 4:\n",
        "    break\n",
        "  x+=1\n"
      ],
      "metadata": {
        "colab": {
          "base_uri": "https://localhost:8080/"
        },
        "id": "vK9fqwQKjq7O",
        "outputId": "8d13bae5-648b-4aa0-bb44-bfcc51c6fd66"
      },
      "execution_count": null,
      "outputs": [
        {
          "output_type": "stream",
          "name": "stdout",
          "text": [
            "0\n",
            "1\n",
            "2\n",
            "3\n",
            "4\n"
          ]
        }
      ]
    },
    {
      "cell_type": "markdown",
      "source": [
        "Continue Statement"
      ],
      "metadata": {
        "id": "jTQFJmTNlXmY"
      }
    },
    {
      "cell_type": "code",
      "source": [
        "n = 10\n",
        "while n > 0:\n",
        "  n-=1 \n",
        "  if n % 2 == 0:\n",
        "    continue\n",
        "  print(n)"
      ],
      "metadata": {
        "colab": {
          "base_uri": "https://localhost:8080/"
        },
        "id": "v924SJ5OlZxX",
        "outputId": "fc88eabe-a2b0-4a5b-b1d8-48d0aa3a0999"
      },
      "execution_count": null,
      "outputs": [
        {
          "output_type": "stream",
          "name": "stdout",
          "text": [
            "9\n",
            "7\n",
            "5\n",
            "3\n",
            "1\n"
          ]
        }
      ]
    },
    {
      "cell_type": "code",
      "source": [
        "n = 0\n",
        "while n < 10:\n",
        "  n += 1\n",
        "  if n % 2 == 1:\n",
        "    continue\n",
        "  print(n)\n",
        "  "
      ],
      "metadata": {
        "colab": {
          "base_uri": "https://localhost:8080/"
        },
        "id": "ZRKJ2WH4pCiS",
        "outputId": "c758826b-a20a-48df-e7ff-d9a39687402e"
      },
      "execution_count": null,
      "outputs": [
        {
          "output_type": "stream",
          "name": "stdout",
          "text": [
            "2\n",
            "4\n",
            "6\n",
            "8\n",
            "10\n"
          ]
        }
      ]
    },
    {
      "cell_type": "markdown",
      "source": [
        "Function without argument"
      ],
      "metadata": {
        "id": "MVelsjYTxp74"
      }
    },
    {
      "cell_type": "code",
      "source": [
        "def hello_world():\n",
        "  print('Hello World! This is a Python function demo')\n",
        "\n",
        "hello_world()"
      ],
      "metadata": {
        "colab": {
          "base_uri": "https://localhost:8080/"
        },
        "id": "xJwFMG8FxFL6",
        "outputId": "278016db-19c3-43b4-cba8-1ee8d665023b"
      },
      "execution_count": null,
      "outputs": [
        {
          "output_type": "stream",
          "name": "stdout",
          "text": [
            "Hello World! This is a Python function demo\n"
          ]
        }
      ]
    },
    {
      "cell_type": "markdown",
      "source": [
        "Function with one argument"
      ],
      "metadata": {
        "id": "1qjCQV0txt2f"
      }
    },
    {
      "cell_type": "code",
      "source": [
        "def hello_world1(name):\n",
        "  print('Hello ', name)\n",
        "\n",
        "hello_world1('Adam')"
      ],
      "metadata": {
        "colab": {
          "base_uri": "https://localhost:8080/"
        },
        "id": "400B0gWoxw4X",
        "outputId": "a11ad5e5-1c2e-4e56-d029-f5d66dd90142"
      },
      "execution_count": null,
      "outputs": [
        {
          "output_type": "stream",
          "name": "stdout",
          "text": [
            "Hello  Adam\n"
          ]
        }
      ]
    },
    {
      "cell_type": "markdown",
      "source": [
        "Function with two argument (Positional Arguments: Order is important)"
      ],
      "metadata": {
        "id": "N1S_vbIfyXbm"
      }
    },
    {
      "cell_type": "code",
      "source": [
        "def greeting(name, greet):\n",
        "  print('Hello!', name, greet)\n",
        "\n",
        "greeting('Adam', 'How are you?')"
      ],
      "metadata": {
        "colab": {
          "base_uri": "https://localhost:8080/"
        },
        "id": "TaISoXSlyaFW",
        "outputId": "d7449d71-f27b-420b-db75-5b9171936428"
      },
      "execution_count": null,
      "outputs": [
        {
          "output_type": "stream",
          "name": "stdout",
          "text": [
            "Hello! Adam How are you?\n"
          ]
        }
      ]
    },
    {
      "cell_type": "markdown",
      "source": [
        "Keywords Argument: Order is of no importance"
      ],
      "metadata": {
        "id": "9CQFpiY9XOJB"
      }
    },
    {
      "cell_type": "code",
      "source": [
        "def status(name, job):\n",
        "  print(name,'is a',job,)\n",
        "\n",
        "status(job='Lecturer', name='Adam')"
      ],
      "metadata": {
        "colab": {
          "base_uri": "https://localhost:8080/"
        },
        "id": "JbT4qOsqXYlp",
        "outputId": "1414bf21-7db9-4bf0-f26e-64dc1ea50694"
      },
      "execution_count": null,
      "outputs": [
        {
          "output_type": "stream",
          "name": "stdout",
          "text": [
            "Adam is a Lecturer\n"
          ]
        }
      ]
    },
    {
      "cell_type": "markdown",
      "source": [
        "Default Argument: It allows you to make selected arguments optional"
      ],
      "metadata": {
        "id": "anMuMw-KYWIz"
      }
    },
    {
      "cell_type": "code",
      "source": [
        "def status(job, name='Adam'):\n",
        "  print(name,'is a',job)\n",
        "\n",
        "status('Programmer','Wasiu')\n",
        "status('Lecturer')"
      ],
      "metadata": {
        "colab": {
          "base_uri": "https://localhost:8080/"
        },
        "id": "VtKr0lB2YZFs",
        "outputId": "fd73646d-76c4-4929-923e-5f065323a5e0"
      },
      "execution_count": null,
      "outputs": [
        {
          "output_type": "stream",
          "name": "stdout",
          "text": [
            "Wasiu is a Programmer\n",
            "Adam is a Lecturer\n"
          ]
        }
      ]
    },
    {
      "cell_type": "markdown",
      "source": [
        "Variable Length Positional Arguments: *args"
      ],
      "metadata": {
        "id": "KBFUapueZjGo"
      }
    },
    {
      "cell_type": "code",
      "source": [
        "def body_parts(*args):\n",
        "  print(args)\n",
        "\n",
        "body_parts('head','eyes','nose','ear','mouth')"
      ],
      "metadata": {
        "colab": {
          "base_uri": "https://localhost:8080/"
        },
        "id": "0kLTDBXOab92",
        "outputId": "9d26ede5-2a1b-418f-94b5-19af31f53646"
      },
      "execution_count": null,
      "outputs": [
        {
          "output_type": "stream",
          "name": "stdout",
          "text": [
            "('head', 'eyes', 'nose', 'ear', 'mouth')\n"
          ]
        }
      ]
    },
    {
      "cell_type": "markdown",
      "source": [
        "Variable Length Keywords Arguments: **kwargs"
      ],
      "metadata": {
        "id": "TjPTFowKbQUi"
      }
    },
    {
      "cell_type": "code",
      "source": [
        "def body_parts(**kwargs):\n",
        "  print(kwargs)\n",
        "\n",
        "body_parts(ori='head',oju='eyes',imu='nose',eti='ear',enu='mouth')"
      ],
      "metadata": {
        "colab": {
          "base_uri": "https://localhost:8080/"
        },
        "id": "0cEswsd8bVLc",
        "outputId": "54989de4-c981-4445-8e69-3c254700ed5d"
      },
      "execution_count": null,
      "outputs": [
        {
          "output_type": "stream",
          "name": "stdout",
          "text": [
            "{'ori': 'head', 'oju': 'eyes', 'imu': 'nose', 'eti': 'ear', 'enu': 'mouth'}\n"
          ]
        }
      ]
    },
    {
      "cell_type": "markdown",
      "source": [
        "Return Value"
      ],
      "metadata": {
        "id": "QGM0bTtvcAcP"
      }
    },
    {
      "cell_type": "code",
      "source": [
        "def add(a,b):\n",
        "  return(a+b)\n",
        "\n",
        "x = add(5,10)\n",
        "print(x)"
      ],
      "metadata": {
        "colab": {
          "base_uri": "https://localhost:8080/"
        },
        "id": "ZXYZLQSDcBvo",
        "outputId": "a69e8356-6926-4c96-8ab2-26b1eac7855d"
      },
      "execution_count": null,
      "outputs": [
        {
          "output_type": "stream",
          "name": "stdout",
          "text": [
            "15\n"
          ]
        }
      ]
    },
    {
      "cell_type": "markdown",
      "source": [
        "Return Multiple Values"
      ],
      "metadata": {
        "id": "O0Q79_STcWRm"
      }
    },
    {
      "cell_type": "code",
      "source": [
        "def mul_div(a, b):\n",
        "  return(a * b, a / b)\n",
        "\n",
        "results = mul_div(20, 5)\n",
        "print(results)"
      ],
      "metadata": {
        "colab": {
          "base_uri": "https://localhost:8080/"
        },
        "id": "COd80r1ocum8",
        "outputId": "fa329207-1fc0-4ff5-9775-495a39d92286"
      },
      "execution_count": null,
      "outputs": [
        {
          "output_type": "stream",
          "name": "stdout",
          "text": [
            "(100, 4.0)\n"
          ]
        }
      ]
    },
    {
      "cell_type": "markdown",
      "source": [
        "Docstrings"
      ],
      "metadata": {
        "id": "tLMjVTRmdZow"
      }
    },
    {
      "cell_type": "code",
      "source": [
        "def hello():\n",
        "  \"\"\"This function prints\n",
        "  messages on the screen.\"\"\"\n",
        "  print('Hello World!')\n",
        "\n",
        "help(hello)\n",
        "\n"
      ],
      "metadata": {
        "colab": {
          "base_uri": "https://localhost:8080/"
        },
        "id": "d6xU9VmVdWkL",
        "outputId": "825609be-c12b-486c-e45f-8435a5559627"
      },
      "execution_count": null,
      "outputs": [
        {
          "output_type": "stream",
          "name": "stdout",
          "text": [
            "Help on function hello in module __main__:\n",
            "\n",
            "hello()\n",
            "    This function prints\n",
            "    messages on the screen.\n",
            "\n"
          ]
        }
      ]
    },
    {
      "cell_type": "markdown",
      "source": [
        "Creating a Class"
      ],
      "metadata": {
        "id": "iOzFrwO9fuLd"
      }
    },
    {
      "cell_type": "code",
      "source": [
        "class Car:\n",
        "  pass\n",
        "#The pass indicates the class is an empty class"
      ],
      "metadata": {
        "id": "aYwWS3XHfvNe"
      },
      "execution_count": null,
      "outputs": []
    },
    {
      "cell_type": "markdown",
      "source": [
        "The __init__() Method"
      ],
      "metadata": {
        "id": "KWlQ4W1JgUAC"
      }
    },
    {
      "cell_type": "code",
      "source": [
        "class Car:\n",
        "  def __init__(self):\n",
        "      pass\n",
        "#The self parameter refers to the individual object itself and it is used to fetch or set attributes of the particular instance"
      ],
      "metadata": {
        "id": "B1n_AJDTgWzI"
      },
      "execution_count": null,
      "outputs": []
    },
    {
      "cell_type": "markdown",
      "source": [
        "Instance Attributes: Unique for each instance"
      ],
      "metadata": {
        "id": "8r4HdCPBgwyh"
      }
    },
    {
      "cell_type": "code",
      "source": [
        "# A class with teo instance attributes\n",
        "class Car:\n",
        "  def __init__(self, color, style):\n",
        "    self.color = color\n",
        "    self.style = style\n"
      ],
      "metadata": {
        "id": "bOj0HKHAhLj5"
      },
      "execution_count": null,
      "outputs": []
    },
    {
      "cell_type": "markdown",
      "source": [
        "Class Attribute: General for all instances"
      ],
      "metadata": {
        "id": "fJ_J4lCurOAP"
      }
    },
    {
      "cell_type": "code",
      "source": [
        "class Car:\n",
        "  # class attribute\n",
        "  wheel = 4\n",
        "  # initializer with instant attributes\n",
        "  def __init__(self, color, style):\n",
        "    self.color =color\n",
        "    self.style = style\n",
        "    "
      ],
      "metadata": {
        "id": "rwszGbKxrdYW"
      },
      "execution_count": null,
      "outputs": []
    },
    {
      "cell_type": "markdown",
      "source": [
        "Creating an Object: Instance of a class       \n"
      ],
      "metadata": {
        "id": "b7lpZ1VVsi1L"
      }
    },
    {
      "cell_type": "code",
      "source": [
        "class Car:\n",
        "  wheel = 4\n",
        "  def __init__(self, color, style):\n",
        "    self.color =color\n",
        "    self.style = style\n",
        "\n",
        "toyota = Car('Grey', 'Camry')"
      ],
      "metadata": {
        "id": "snsanTi-smp5"
      },
      "execution_count": null,
      "outputs": []
    },
    {
      "cell_type": "markdown",
      "source": [
        "Accessing and Modifying c"
      ],
      "metadata": {
        "id": "eBsX7vXdtrWn"
      }
    },
    {
      "cell_type": "code",
      "source": [
        "class Car:\n",
        "  # class attribute\n",
        "  wheel = 4\n",
        "  # initializer with instant attributes\n",
        "  def __init__(self, color, style):\n",
        "    self.color = color\n",
        "    self.style = style\n",
        "\n",
        "\n",
        "toyota = Car('Grey','Camry')\n",
        "\n",
        "# Access attributes\n",
        "print(toyota.color)\n",
        "print(toyota.style)\n",
        "\n",
        "# Modify attributes\n",
        "toyota.style = 'Corola'\n",
        "\n",
        "print(toyota.style)"
      ],
      "metadata": {
        "colab": {
          "base_uri": "https://localhost:8080/"
        },
        "id": "ff0XAzcutvdW",
        "outputId": "005e9753-3dc2-4e90-d8cd-c2a39247e3ba"
      },
      "execution_count": null,
      "outputs": [
        {
          "output_type": "stream",
          "name": "stdout",
          "text": [
            "Grey\n",
            "Camry\n",
            "Corola\n"
          ]
        }
      ]
    },
    {
      "cell_type": "markdown",
      "source": [
        "Class Methods"
      ],
      "metadata": {
        "id": "ItsKJxBUvm1Y"
      }
    },
    {
      "cell_type": "code",
      "source": [
        "class Car:\n",
        "  # class attribute\n",
        "  wheel = 4\n",
        "  # initializer with instant attributes\n",
        "  def __init__(self, color, style):\n",
        "    self.color = color\n",
        "    self.style = style\n",
        "  \n",
        "  # Define method 1\n",
        "  def showDescription(self):\n",
        "    print('This car is a', self.color, self.style)\n",
        "\n",
        "  def changeColor(self, color):\n",
        "    self.color = color\n",
        "\n",
        "toyota = Car('Black','Siena')\n",
        "\n",
        "# call method 1\n",
        "toyota.showDescription()\n",
        "\n",
        "# call method 2\n",
        "toyota.changeColor(color = 'Blue')\n",
        "toyota.showDescription()"
      ],
      "metadata": {
        "colab": {
          "base_uri": "https://localhost:8080/"
        },
        "id": "ZHD-EDiXvo3r",
        "outputId": "c35ab672-59a0-42c5-ae6a-9d5c29dc43b5"
      },
      "execution_count": null,
      "outputs": [
        {
          "output_type": "stream",
          "name": "stdout",
          "text": [
            "This car is a Black Siena\n",
            "This car is a Blue Siena\n"
          ]
        }
      ]
    },
    {
      "cell_type": "code",
      "source": [
        "class Car:\n",
        "  # class attribute\n",
        "  wheel = 4\n",
        "  # initializer with instant attributes\n",
        "  def __init__(self, color, style):\n",
        "    self.color = color\n",
        "    self.style = style\n",
        "  \n",
        "  # Define method 1\n",
        "  def showDescription(self):\n",
        "    print('This car is a', self.color, self.style)\n",
        "\n",
        "  # define method 2\n",
        "  def changeColor(self, color):\n",
        "    self.color = color\n",
        "\n",
        "toyota = Car('Black','Siena')\n",
        "\n",
        "# call method 1\n",
        "toyota.showDescription()\n",
        "\n",
        "# call method 2\n",
        "toyota.changeColor(color = 'Blue')\n",
        "toyota.showDescription()\n",
        "\n",
        "# del toyota.color\n",
        "#toyota.showDescription()"
      ],
      "metadata": {
        "colab": {
          "base_uri": "https://localhost:8080/"
        },
        "outputId": "efd1964d-ec68-4303-da34-95803da181f8",
        "id": "lkebyJujx-WX"
      },
      "execution_count": null,
      "outputs": [
        {
          "output_type": "stream",
          "name": "stdout",
          "text": [
            "This car is a Black Siena\n",
            "This car is a Blue Siena\n"
          ]
        }
      ]
    },
    {
      "cell_type": "markdown",
      "source": [
        "Modules"
      ],
      "metadata": {
        "id": "oGwDdO2cC0eY"
      }
    },
    {
      "cell_type": "code",
      "source": [
        "def square(x):\n",
        "  result = x*x\n",
        "  return result\n",
        "\n",
        "square(3)"
      ],
      "metadata": {
        "colab": {
          "base_uri": "https://localhost:8080/"
        },
        "id": "fIHK-wA5C1rq",
        "outputId": "0400afcd-dd89-424c-890e-ca0249d3fa4c"
      },
      "execution_count": 2,
      "outputs": [
        {
          "output_type": "execute_result",
          "data": {
            "text/plain": [
              "9"
            ]
          },
          "metadata": {},
          "execution_count": 2
        }
      ]
    },
    {
      "cell_type": "markdown",
      "source": [
        "Importing a Module: Importing the entire module (Method 1)"
      ],
      "metadata": {
        "id": "qfTV50qiNKuV"
      }
    },
    {
      "cell_type": "code",
      "source": [
        ""
      ],
      "metadata": {
        "id": "QrgTskcF_ST1"
      },
      "execution_count": null,
      "outputs": []
    },
    {
      "cell_type": "code",
      "source": [
        "import math\n",
        "print(math.sqrt(16))\n",
        "print(math.pow(2,3))"
      ],
      "metadata": {
        "colab": {
          "base_uri": "https://localhost:8080/"
        },
        "id": "yErexJqVL1wM",
        "outputId": "b8e96157-4ab2-422c-bc18-233e02ad4a51"
      },
      "execution_count": 5,
      "outputs": [
        {
          "output_type": "stream",
          "name": "stdout",
          "text": [
            "4.0\n",
            "8.0\n"
          ]
        }
      ]
    },
    {
      "cell_type": "markdown",
      "source": [
        "Importing a Module: Importing a specific function from a module (Method 2)"
      ],
      "metadata": {
        "id": "qibqWpeWNRHb"
      }
    },
    {
      "cell_type": "code",
      "source": [
        "from math import sqrt, pow\n",
        "print(sqrt(81))\n",
        "print(pow(4,2))"
      ],
      "metadata": {
        "colab": {
          "base_uri": "https://localhost:8080/"
        },
        "id": "OYA5eANSNSFk",
        "outputId": "64ba8e45-05b5-44c5-c5d5-81c7fcaf40af"
      },
      "execution_count": 6,
      "outputs": [
        {
          "output_type": "stream",
          "name": "stdout",
          "text": [
            "9.0\n",
            "16.0\n"
          ]
        }
      ]
    },
    {
      "cell_type": "code",
      "source": [
        ""
      ],
      "metadata": {
        "id": "h_11qyYlOE0c"
      },
      "execution_count": 2,
      "outputs": []
    }
  ]
}